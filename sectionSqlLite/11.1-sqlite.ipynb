{
 "cells": [
  {
   "cell_type": "code",
   "execution_count": 2,
   "id": "c5bbc52b",
   "metadata": {},
   "outputs": [
    {
     "data": {
      "text/plain": [
       "<sqlite3.Connection at 0x7f8ce9aef1f0>"
      ]
     },
     "execution_count": 2,
     "metadata": {},
     "output_type": "execute_result"
    }
   ],
   "source": [
    "import sqlite3\n",
    "\n",
    "conn = sqlite3.connect('example.db')\n",
    "conn"
   ]
  },
  {
   "cell_type": "code",
   "execution_count": 3,
   "id": "dfe5facb",
   "metadata": {},
   "outputs": [],
   "source": [
    "cursor = conn.cursor()"
   ]
  },
  {
   "cell_type": "code",
   "execution_count": 4,
   "id": "9eede506",
   "metadata": {},
   "outputs": [],
   "source": [
    "## Create a table\n",
    "\n",
    "cursor.execute('''\n",
    "    Create Table If Not Exists employees(\n",
    "               id Integer Primary Key,\n",
    "               name Text Not Null,\n",
    "               age Integer,\n",
    "               department Text\n",
    "               )\n",
    "''')\n",
    "\n",
    "## Commit the changes\n",
    "conn.commit()"
   ]
  },
  {
   "cell_type": "code",
   "execution_count": 5,
   "id": "18a652c1",
   "metadata": {},
   "outputs": [
    {
     "data": {
      "text/plain": [
       "<sqlite3.Cursor at 0x7f8ce9dda9c0>"
      ]
     },
     "execution_count": 5,
     "metadata": {},
     "output_type": "execute_result"
    }
   ],
   "source": [
    "cursor.execute('''\n",
    "    Select * from employees\n",
    "''')"
   ]
  },
  {
   "cell_type": "code",
   "execution_count": 6,
   "id": "852ba4b1",
   "metadata": {},
   "outputs": [],
   "source": [
    "## Insert the data in sqlite table\n",
    "cursor.execute('''\n",
    "insert into employees (name, age, department) values('welinton', 20, 'Data')\n",
    "''')\n",
    "\n",
    "conn.commit()"
   ]
  },
  {
   "cell_type": "code",
   "execution_count": 8,
   "id": "701533e1",
   "metadata": {},
   "outputs": [
    {
     "name": "stdout",
     "output_type": "stream",
     "text": [
      "(1, 'welinton', 20, 'Data')\n",
      "(2, 'welinton', 20, 'Data')\n",
      "(3, 'welinton', 20, 'Data')\n"
     ]
    }
   ],
   "source": [
    "## Query the data from the table\n",
    "cursor.execute('select * from employees')\n",
    "rows=cursor.fetchall()\n",
    "\n",
    "## print the queried data\n",
    "for row in rows:\n",
    "    print(row)"
   ]
  },
  {
   "cell_type": "code",
   "execution_count": 12,
   "id": "b176f41c",
   "metadata": {},
   "outputs": [],
   "source": [
    "sales_data = [\n",
    "    ('product1', 20, 'lasasa'),\n",
    "    ('product1', 20, 'lasasa'),\n",
    "    ('product1', 20, 'lasasa')\n",
    "]\n",
    "\n",
    "## Insert the data in sqlite table\n",
    "cursor.executemany('''\n",
    "insert into employees (name, age, department) values(?, ?, ?)\n",
    "''', sales_data)\n",
    "\n",
    "conn.commit()"
   ]
  },
  {
   "cell_type": "code",
   "execution_count": 13,
   "id": "0dda9cd7",
   "metadata": {},
   "outputs": [
    {
     "name": "stdout",
     "output_type": "stream",
     "text": [
      "(1, 'welinton', 20, 'Data')\n",
      "(2, 'welinton', 20, 'Data')\n",
      "(3, 'welinton', 20, 'Data')\n",
      "(4, 'product1', 20, 'lasasa')\n",
      "(5, 'product1', 20, 'lasasa')\n",
      "(6, 'product1', 20, 'lasasa')\n"
     ]
    }
   ],
   "source": [
    "## Query the data from the table\n",
    "cursor.execute('select * from employees')\n",
    "rows=cursor.fetchall()\n",
    "\n",
    "## print the queried data\n",
    "for row in rows:\n",
    "    print(row)"
   ]
  }
 ],
 "metadata": {
  "kernelspec": {
   "display_name": "Python 3",
   "language": "python",
   "name": "python3"
  },
  "language_info": {
   "codemirror_mode": {
    "name": "ipython",
    "version": 3
   },
   "file_extension": ".py",
   "mimetype": "text/x-python",
   "name": "python",
   "nbconvert_exporter": "python",
   "pygments_lexer": "ipython3",
   "version": "3.12.0"
  }
 },
 "nbformat": 4,
 "nbformat_minor": 5
}
