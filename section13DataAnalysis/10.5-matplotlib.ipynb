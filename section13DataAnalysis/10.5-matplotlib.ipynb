{
 "cells": [
  {
   "cell_type": "markdown",
   "id": "29734da9",
   "metadata": {},
   "source": [
    "### Data Visualization With Matplotlib\n",
    "\n",
    "Matplotlib is a powerful plotting library for Python that enables the creation of static, animated, and interactive visualizations. It is widely used for data visualization in data science and analytics. In this lessos, we will cover the basics of Matplotlib, including creating various types of plots and customizing them"
   ]
  },
  {
   "cell_type": "code",
   "execution_count": null,
   "id": "9997af8d",
   "metadata": {},
   "outputs": [],
   "source": [
    "import pandas as pd\n",
    "import matplotlib.pyplot as plt\n",
    "\n",
    "df = pd.read_csv(\"./dataset/Pokemon.csv\")\n",
    "\n"
   ]
  }
 ],
 "metadata": {
  "kernelspec": {
   "display_name": "Python 3",
   "language": "python",
   "name": "python3"
  },
  "language_info": {
   "name": "python",
   "version": "3.12.0"
  }
 },
 "nbformat": 4,
 "nbformat_minor": 5
}
