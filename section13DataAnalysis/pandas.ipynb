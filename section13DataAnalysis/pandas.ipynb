{
 "cells": [
  {
   "cell_type": "markdown",
   "id": "bc89e1e8",
   "metadata": {},
   "source": [
    "### Pandas - DataFrame and Series\n",
    "\n",
    "Pandas is a powerful data manipulation library in python, widely used for data analysis and data cleaning. It provides two primary data structures: Series and DataFrame. A Series is a one - dimensional array-like object, while a DataFrame is a two-dimensional, size-mutable, and potentially heterogeneous tabular data structure with labeled axes (rows and columns)"
   ]
  },
  {
   "cell_type": "code",
   "execution_count": 1,
   "id": "2ed5c9d6",
   "metadata": {},
   "outputs": [
    {
     "name": "stdout",
     "output_type": "stream",
     "text": [
      "Requirement already satisfied: pandas in /home/welinton/python/venv/lib/python3.12/site-packages (2.2.3)\n",
      "Requirement already satisfied: numpy>=1.26.0 in /home/welinton/python/venv/lib/python3.12/site-packages (from pandas) (2.2.4)\n",
      "Requirement already satisfied: python-dateutil>=2.8.2 in /home/welinton/python/venv/lib/python3.12/site-packages (from pandas) (2.9.0.post0)\n",
      "Requirement already satisfied: pytz>=2020.1 in /home/welinton/python/venv/lib/python3.12/site-packages (from pandas) (2025.2)\n",
      "Requirement already satisfied: tzdata>=2022.7 in /home/welinton/python/venv/lib/python3.12/site-packages (from pandas) (2025.2)\n",
      "Requirement already satisfied: six>=1.5 in /home/welinton/python/venv/lib/python3.12/site-packages (from python-dateutil>=2.8.2->pandas) (1.17.0)\n"
     ]
    }
   ],
   "source": [
    "!pip install pandas"
   ]
  },
  {
   "cell_type": "code",
   "execution_count": 2,
   "id": "90f7a693",
   "metadata": {},
   "outputs": [],
   "source": [
    "import pandas as pd"
   ]
  },
  {
   "cell_type": "code",
   "execution_count": null,
   "id": "f95ae370",
   "metadata": {},
   "outputs": [
    {
     "name": "stdout",
     "output_type": "stream",
     "text": [
      "Series \n",
      " 0    1\n",
      "1    2\n",
      "2    3\n",
      "3    4\n",
      "4    5\n",
      "dtype: int64\n",
      "Tyoe of Series \n",
      " <class 'pandas.core.series.Series'>\n"
     ]
    }
   ],
   "source": [
    "## Series \n",
    "## A Pandas Series is a one-dimensional array-like object that\n",
    "## Can hold any data type. it is similar to a column in a table\n",
    "\n",
    "data=[1,2,3,4,5]\n",
    "series = pd.Series(data)\n",
    "\n",
    "print(\"Series \\n\", series)\n",
    "print(\"Type of Series \\n\", type(series))"
   ]
  },
  {
   "cell_type": "code",
   "execution_count": 8,
   "id": "0bb5b569",
   "metadata": {},
   "outputs": [
    {
     "name": "stdout",
     "output_type": "stream",
     "text": [
      "Series_dict \n",
      " a    1\n",
      "b    2\n",
      "c    3\n",
      "dtype: int64\n",
      "Type of series_dict \n",
      " <class 'pandas.core.series.Series'>\n"
     ]
    }
   ],
   "source": [
    "## Create a Setires from dictionary\n",
    "\n",
    "data = {'a' : 1, 'b': 2, 'c' : 3}\n",
    "series_dict = pd.Series(data)\n",
    "\n",
    "print(\"Series_dict \\n\", series_dict)\n",
    "print(\"Type of series_dict \\n\", type(series_dict))\n"
   ]
  },
  {
   "cell_type": "code",
   "execution_count": 10,
   "id": "50a83b6d",
   "metadata": {},
   "outputs": [
    {
     "name": "stdout",
     "output_type": "stream",
     "text": [
      "a    10\n",
      "b    20\n",
      "c    30\n",
      "dtype: int64\n"
     ]
    }
   ],
   "source": [
    "data = [10,20,30]\n",
    "index = ['a','b','c']\n",
    "\n",
    "series = pd.Series(data, index=index)\n",
    "print(series)"
   ]
  },
  {
   "cell_type": "code",
   "execution_count": 13,
   "id": "a6535354",
   "metadata": {},
   "outputs": [
    {
     "name": "stdout",
     "output_type": "stream",
     "text": [
      "       Name  Age       City\n",
      "0  Welinton   20      Guara\n",
      "1    Yasmin   19  Aparecida\n",
      "2    Junior   24   Sao José\n",
      "<class 'pandas.core.frame.DataFrame'>\n"
     ]
    }
   ],
   "source": [
    "## DataFrame\n",
    "## create a dataFram from a dictionary of list\n",
    "\n",
    "data = {\n",
    "    \"Name\" : ['Welinton', \"Yasmin\", \"Junior\"],\n",
    "    \"Age\": [20, 19, 24],\n",
    "    \"City\": [\"Guara\", \"Aparecida\", \"Sao José\"],\n",
    "}\n",
    "\n",
    "df = pd.DataFrame(data)\n",
    "print(df)\n",
    "print(type(df))"
   ]
  },
  {
   "cell_type": "code",
   "execution_count": 27,
   "id": "10555f98",
   "metadata": {},
   "outputs": [
    {
     "name": "stdout",
     "output_type": "stream",
     "text": [
      "       Name  Age           City\n",
      "0  Welinton   20  Guaratingueta\n",
      "1    Yasmin   19      Aparecida\n",
      "2    Junior   22         Lorena\n"
     ]
    }
   ],
   "source": [
    "## Create a Data Frame from a list of dictionaries\n",
    "\n",
    "data = [\n",
    "    {\"Name\" : 'Welinton', \"Age\" : 20, \"City\" : \"Guaratingueta\"},\n",
    "    {\"Name\" : 'Yasmin', \"Age\" : 19, \"City\" : \"Aparecida\"},\n",
    "    {\"Name\" : 'Junior', \"Age\" : 22, \"City\" : \"Lorena\"},\n",
    "]\n",
    "\n",
    "df = pd.DataFrame(data)\n",
    "print(df)"
   ]
  },
  {
   "cell_type": "code",
   "execution_count": null,
   "id": "a574324f",
   "metadata": {},
   "outputs": [
    {
     "data": {
      "text/html": [
       "<div>\n",
       "<style scoped>\n",
       "    .dataframe tbody tr th:only-of-type {\n",
       "        vertical-align: middle;\n",
       "    }\n",
       "\n",
       "    .dataframe tbody tr th {\n",
       "        vertical-align: top;\n",
       "    }\n",
       "\n",
       "    .dataframe thead th {\n",
       "        text-align: right;\n",
       "    }\n",
       "</style>\n",
       "<table border=\"1\" class=\"dataframe\">\n",
       "  <thead>\n",
       "    <tr style=\"text-align: right;\">\n",
       "      <th></th>\n",
       "      <th>Case_ID</th>\n",
       "      <th>Date_Reported</th>\n",
       "      <th>Region</th>\n",
       "      <th>Country</th>\n",
       "      <th>Pollutant_Type</th>\n",
       "      <th>Pollutant_Concentration_mg_kg</th>\n",
       "      <th>Soil_pH</th>\n",
       "      <th>Temperature_C</th>\n",
       "      <th>Humidity_%</th>\n",
       "      <th>Rainfall_mm</th>\n",
       "      <th>...</th>\n",
       "      <th>Soil_Texture</th>\n",
       "      <th>Soil_Organic_Matter_%</th>\n",
       "      <th>Disease_Type</th>\n",
       "      <th>Disease_Severity</th>\n",
       "      <th>Health_Symptoms</th>\n",
       "      <th>Age_Group_Affected</th>\n",
       "      <th>Gender_Most_Affected</th>\n",
       "      <th>Mitigation_Measure</th>\n",
       "      <th>Case_Resolved</th>\n",
       "      <th>Follow_Up_Required</th>\n",
       "    </tr>\n",
       "  </thead>\n",
       "  <tbody>\n",
       "    <tr>\n",
       "      <th>0</th>\n",
       "      <td>CASE_100000</td>\n",
       "      <td>2024-09-12</td>\n",
       "      <td>Africa</td>\n",
       "      <td>Pakistan</td>\n",
       "      <td>Lead</td>\n",
       "      <td>78.04</td>\n",
       "      <td>8.30</td>\n",
       "      <td>35.6</td>\n",
       "      <td>64.9</td>\n",
       "      <td>62.4</td>\n",
       "      <td>...</td>\n",
       "      <td>Sandy</td>\n",
       "      <td>1.98</td>\n",
       "      <td>Gastrointestinal Disease</td>\n",
       "      <td>Moderate</td>\n",
       "      <td>Breathing Difficulty</td>\n",
       "      <td>Adults</td>\n",
       "      <td>Male</td>\n",
       "      <td>Government Regulation</td>\n",
       "      <td>No</td>\n",
       "      <td>Yes</td>\n",
       "    </tr>\n",
       "    <tr>\n",
       "      <th>1</th>\n",
       "      <td>CASE_100001</td>\n",
       "      <td>2024-01-01</td>\n",
       "      <td>Africa</td>\n",
       "      <td>Germany</td>\n",
       "      <td>Lead</td>\n",
       "      <td>16.33</td>\n",
       "      <td>7.96</td>\n",
       "      <td>31.0</td>\n",
       "      <td>73.1</td>\n",
       "      <td>8.2</td>\n",
       "      <td>...</td>\n",
       "      <td>Silty</td>\n",
       "      <td>9.71</td>\n",
       "      <td>Cancer</td>\n",
       "      <td>Mild</td>\n",
       "      <td>Breathing Difficulty</td>\n",
       "      <td>Elderly</td>\n",
       "      <td>Both</td>\n",
       "      <td>Community Awareness</td>\n",
       "      <td>Yes</td>\n",
       "      <td>No</td>\n",
       "    </tr>\n",
       "    <tr>\n",
       "      <th>2</th>\n",
       "      <td>CASE_100002</td>\n",
       "      <td>2025-02-24</td>\n",
       "      <td>Europe</td>\n",
       "      <td>Germany</td>\n",
       "      <td>Lead</td>\n",
       "      <td>167.33</td>\n",
       "      <td>5.35</td>\n",
       "      <td>16.4</td>\n",
       "      <td>33.8</td>\n",
       "      <td>121.7</td>\n",
       "      <td>...</td>\n",
       "      <td>Clay</td>\n",
       "      <td>5.49</td>\n",
       "      <td>Gastrointestinal Disease</td>\n",
       "      <td>Severe</td>\n",
       "      <td>Nausea</td>\n",
       "      <td>Children</td>\n",
       "      <td>Both</td>\n",
       "      <td>Soil Remediation</td>\n",
       "      <td>Yes</td>\n",
       "      <td>No</td>\n",
       "    </tr>\n",
       "    <tr>\n",
       "      <th>3</th>\n",
       "      <td>CASE_100003</td>\n",
       "      <td>2024-09-24</td>\n",
       "      <td>Asia</td>\n",
       "      <td>USA</td>\n",
       "      <td>Lead</td>\n",
       "      <td>89.23</td>\n",
       "      <td>5.66</td>\n",
       "      <td>31.4</td>\n",
       "      <td>30.5</td>\n",
       "      <td>116.9</td>\n",
       "      <td>...</td>\n",
       "      <td>Silty</td>\n",
       "      <td>3.98</td>\n",
       "      <td>Neurological Disorder</td>\n",
       "      <td>Severe</td>\n",
       "      <td>Fatigue</td>\n",
       "      <td>Adults</td>\n",
       "      <td>Male</td>\n",
       "      <td>Community Awareness</td>\n",
       "      <td>Yes</td>\n",
       "      <td>No</td>\n",
       "    </tr>\n",
       "    <tr>\n",
       "      <th>4</th>\n",
       "      <td>CASE_100004</td>\n",
       "      <td>2023-05-24</td>\n",
       "      <td>Africa</td>\n",
       "      <td>India</td>\n",
       "      <td>Chromium</td>\n",
       "      <td>93.93</td>\n",
       "      <td>7.64</td>\n",
       "      <td>17.0</td>\n",
       "      <td>58.6</td>\n",
       "      <td>237.0</td>\n",
       "      <td>...</td>\n",
       "      <td>Loamy</td>\n",
       "      <td>0.94</td>\n",
       "      <td>Skin Disease</td>\n",
       "      <td>Moderate</td>\n",
       "      <td>Breathing Difficulty</td>\n",
       "      <td>Children</td>\n",
       "      <td>Female</td>\n",
       "      <td>Government Regulation</td>\n",
       "      <td>Yes</td>\n",
       "      <td>Yes</td>\n",
       "    </tr>\n",
       "  </tbody>\n",
       "</table>\n",
       "<p>5 rows × 24 columns</p>\n",
       "</div>"
      ],
      "text/plain": [
       "       Case_ID Date_Reported  Region   Country Pollutant_Type  \\\n",
       "0  CASE_100000    2024-09-12  Africa  Pakistan           Lead   \n",
       "1  CASE_100001    2024-01-01  Africa   Germany           Lead   \n",
       "2  CASE_100002    2025-02-24  Europe   Germany           Lead   \n",
       "3  CASE_100003    2024-09-24    Asia       USA           Lead   \n",
       "4  CASE_100004    2023-05-24  Africa     India       Chromium   \n",
       "\n",
       "   Pollutant_Concentration_mg_kg  Soil_pH  Temperature_C  Humidity_%  \\\n",
       "0                          78.04     8.30           35.6        64.9   \n",
       "1                          16.33     7.96           31.0        73.1   \n",
       "2                         167.33     5.35           16.4        33.8   \n",
       "3                          89.23     5.66           31.4        30.5   \n",
       "4                          93.93     7.64           17.0        58.6   \n",
       "\n",
       "   Rainfall_mm  ... Soil_Texture Soil_Organic_Matter_%  \\\n",
       "0         62.4  ...        Sandy                  1.98   \n",
       "1          8.2  ...        Silty                  9.71   \n",
       "2        121.7  ...         Clay                  5.49   \n",
       "3        116.9  ...        Silty                  3.98   \n",
       "4        237.0  ...        Loamy                  0.94   \n",
       "\n",
       "               Disease_Type Disease_Severity       Health_Symptoms  \\\n",
       "0  Gastrointestinal Disease         Moderate  Breathing Difficulty   \n",
       "1                    Cancer             Mild  Breathing Difficulty   \n",
       "2  Gastrointestinal Disease           Severe                Nausea   \n",
       "3     Neurological Disorder           Severe               Fatigue   \n",
       "4              Skin Disease         Moderate  Breathing Difficulty   \n",
       "\n",
       "   Age_Group_Affected Gender_Most_Affected     Mitigation_Measure  \\\n",
       "0              Adults                 Male  Government Regulation   \n",
       "1             Elderly                 Both    Community Awareness   \n",
       "2            Children                 Both       Soil Remediation   \n",
       "3              Adults                 Male    Community Awareness   \n",
       "4            Children               Female  Government Regulation   \n",
       "\n",
       "  Case_Resolved Follow_Up_Required  \n",
       "0            No                Yes  \n",
       "1           Yes                 No  \n",
       "2           Yes                 No  \n",
       "3           Yes                 No  \n",
       "4           Yes                Yes  \n",
       "\n",
       "[5 rows x 24 columns]"
      ]
     },
     "execution_count": 19,
     "metadata": {},
     "output_type": "execute_result"
    }
   ],
   "source": [
    "data = pd.read_csv('./dataset/soil_pollution_diseases.csv')\n",
    "df = pd.DataFrame(data)\n",
    "\n",
    "## Print first five elements\n",
    "df.head(5)"
   ]
  },
  {
   "cell_type": "code",
   "execution_count": 20,
   "id": "9a574bb7",
   "metadata": {},
   "outputs": [
    {
     "data": {
      "text/html": [
       "<div>\n",
       "<style scoped>\n",
       "    .dataframe tbody tr th:only-of-type {\n",
       "        vertical-align: middle;\n",
       "    }\n",
       "\n",
       "    .dataframe tbody tr th {\n",
       "        vertical-align: top;\n",
       "    }\n",
       "\n",
       "    .dataframe thead th {\n",
       "        text-align: right;\n",
       "    }\n",
       "</style>\n",
       "<table border=\"1\" class=\"dataframe\">\n",
       "  <thead>\n",
       "    <tr style=\"text-align: right;\">\n",
       "      <th></th>\n",
       "      <th>Case_ID</th>\n",
       "      <th>Date_Reported</th>\n",
       "      <th>Region</th>\n",
       "      <th>Country</th>\n",
       "      <th>Pollutant_Type</th>\n",
       "      <th>Pollutant_Concentration_mg_kg</th>\n",
       "      <th>Soil_pH</th>\n",
       "      <th>Temperature_C</th>\n",
       "      <th>Humidity_%</th>\n",
       "      <th>Rainfall_mm</th>\n",
       "      <th>...</th>\n",
       "      <th>Soil_Texture</th>\n",
       "      <th>Soil_Organic_Matter_%</th>\n",
       "      <th>Disease_Type</th>\n",
       "      <th>Disease_Severity</th>\n",
       "      <th>Health_Symptoms</th>\n",
       "      <th>Age_Group_Affected</th>\n",
       "      <th>Gender_Most_Affected</th>\n",
       "      <th>Mitigation_Measure</th>\n",
       "      <th>Case_Resolved</th>\n",
       "      <th>Follow_Up_Required</th>\n",
       "    </tr>\n",
       "  </thead>\n",
       "  <tbody>\n",
       "    <tr>\n",
       "      <th>2995</th>\n",
       "      <td>CASE_102995</td>\n",
       "      <td>2024-04-08</td>\n",
       "      <td>Asia</td>\n",
       "      <td>Mexico</td>\n",
       "      <td>Mercury</td>\n",
       "      <td>14.27</td>\n",
       "      <td>7.06</td>\n",
       "      <td>12.3</td>\n",
       "      <td>75.0</td>\n",
       "      <td>215.6</td>\n",
       "      <td>...</td>\n",
       "      <td>Silty</td>\n",
       "      <td>2.39</td>\n",
       "      <td>Respiratory Issues</td>\n",
       "      <td>Severe</td>\n",
       "      <td>Abdominal Pain</td>\n",
       "      <td>Elderly</td>\n",
       "      <td>Both</td>\n",
       "      <td>Crop Rotation</td>\n",
       "      <td>Yes</td>\n",
       "      <td>Yes</td>\n",
       "    </tr>\n",
       "    <tr>\n",
       "      <th>2996</th>\n",
       "      <td>CASE_102996</td>\n",
       "      <td>2024-12-28</td>\n",
       "      <td>Asia</td>\n",
       "      <td>Australia</td>\n",
       "      <td>Pesticides</td>\n",
       "      <td>110.21</td>\n",
       "      <td>5.23</td>\n",
       "      <td>25.4</td>\n",
       "      <td>80.0</td>\n",
       "      <td>184.8</td>\n",
       "      <td>...</td>\n",
       "      <td>Clay</td>\n",
       "      <td>1.91</td>\n",
       "      <td>Neurological Disorder</td>\n",
       "      <td>Severe</td>\n",
       "      <td>Breathing Difficulty</td>\n",
       "      <td>Adults</td>\n",
       "      <td>Female</td>\n",
       "      <td>Government Regulation</td>\n",
       "      <td>Yes</td>\n",
       "      <td>No</td>\n",
       "    </tr>\n",
       "    <tr>\n",
       "      <th>2997</th>\n",
       "      <td>CASE_102997</td>\n",
       "      <td>2023-07-15</td>\n",
       "      <td>Europe</td>\n",
       "      <td>India</td>\n",
       "      <td>Chromium</td>\n",
       "      <td>146.15</td>\n",
       "      <td>5.25</td>\n",
       "      <td>35.8</td>\n",
       "      <td>56.0</td>\n",
       "      <td>181.5</td>\n",
       "      <td>...</td>\n",
       "      <td>Silty</td>\n",
       "      <td>8.59</td>\n",
       "      <td>Cancer</td>\n",
       "      <td>Mild</td>\n",
       "      <td>Fatigue</td>\n",
       "      <td>Children</td>\n",
       "      <td>Female</td>\n",
       "      <td>Government Regulation</td>\n",
       "      <td>No</td>\n",
       "      <td>No</td>\n",
       "    </tr>\n",
       "    <tr>\n",
       "      <th>2998</th>\n",
       "      <td>CASE_102998</td>\n",
       "      <td>2024-07-30</td>\n",
       "      <td>Asia</td>\n",
       "      <td>USA</td>\n",
       "      <td>Lead</td>\n",
       "      <td>143.18</td>\n",
       "      <td>4.63</td>\n",
       "      <td>20.4</td>\n",
       "      <td>85.3</td>\n",
       "      <td>7.3</td>\n",
       "      <td>...</td>\n",
       "      <td>Silty</td>\n",
       "      <td>5.68</td>\n",
       "      <td>Neurological Disorder</td>\n",
       "      <td>Mild</td>\n",
       "      <td>Abdominal Pain</td>\n",
       "      <td>Adults</td>\n",
       "      <td>Female</td>\n",
       "      <td>Soil Remediation</td>\n",
       "      <td>Yes</td>\n",
       "      <td>Yes</td>\n",
       "    </tr>\n",
       "    <tr>\n",
       "      <th>2999</th>\n",
       "      <td>CASE_102999</td>\n",
       "      <td>2024-09-04</td>\n",
       "      <td>North America</td>\n",
       "      <td>China</td>\n",
       "      <td>Cadmium</td>\n",
       "      <td>146.93</td>\n",
       "      <td>6.99</td>\n",
       "      <td>36.6</td>\n",
       "      <td>74.4</td>\n",
       "      <td>276.8</td>\n",
       "      <td>...</td>\n",
       "      <td>Silty</td>\n",
       "      <td>8.30</td>\n",
       "      <td>Respiratory Issues</td>\n",
       "      <td>Mild</td>\n",
       "      <td>Breathing Difficulty</td>\n",
       "      <td>Elderly</td>\n",
       "      <td>Both</td>\n",
       "      <td>Chemical Neutralization</td>\n",
       "      <td>No</td>\n",
       "      <td>No</td>\n",
       "    </tr>\n",
       "  </tbody>\n",
       "</table>\n",
       "<p>5 rows × 24 columns</p>\n",
       "</div>"
      ],
      "text/plain": [
       "          Case_ID Date_Reported         Region    Country Pollutant_Type  \\\n",
       "2995  CASE_102995    2024-04-08           Asia     Mexico        Mercury   \n",
       "2996  CASE_102996    2024-12-28           Asia  Australia     Pesticides   \n",
       "2997  CASE_102997    2023-07-15         Europe      India       Chromium   \n",
       "2998  CASE_102998    2024-07-30           Asia        USA           Lead   \n",
       "2999  CASE_102999    2024-09-04  North America      China        Cadmium   \n",
       "\n",
       "      Pollutant_Concentration_mg_kg  Soil_pH  Temperature_C  Humidity_%  \\\n",
       "2995                          14.27     7.06           12.3        75.0   \n",
       "2996                         110.21     5.23           25.4        80.0   \n",
       "2997                         146.15     5.25           35.8        56.0   \n",
       "2998                         143.18     4.63           20.4        85.3   \n",
       "2999                         146.93     6.99           36.6        74.4   \n",
       "\n",
       "      Rainfall_mm  ... Soil_Texture Soil_Organic_Matter_%  \\\n",
       "2995        215.6  ...        Silty                  2.39   \n",
       "2996        184.8  ...         Clay                  1.91   \n",
       "2997        181.5  ...        Silty                  8.59   \n",
       "2998          7.3  ...        Silty                  5.68   \n",
       "2999        276.8  ...        Silty                  8.30   \n",
       "\n",
       "               Disease_Type Disease_Severity       Health_Symptoms  \\\n",
       "2995     Respiratory Issues           Severe        Abdominal Pain   \n",
       "2996  Neurological Disorder           Severe  Breathing Difficulty   \n",
       "2997                 Cancer             Mild               Fatigue   \n",
       "2998  Neurological Disorder             Mild        Abdominal Pain   \n",
       "2999     Respiratory Issues             Mild  Breathing Difficulty   \n",
       "\n",
       "      Age_Group_Affected Gender_Most_Affected       Mitigation_Measure  \\\n",
       "2995             Elderly                 Both            Crop Rotation   \n",
       "2996              Adults               Female    Government Regulation   \n",
       "2997            Children               Female    Government Regulation   \n",
       "2998              Adults               Female         Soil Remediation   \n",
       "2999             Elderly                 Both  Chemical Neutralization   \n",
       "\n",
       "     Case_Resolved Follow_Up_Required  \n",
       "2995           Yes                Yes  \n",
       "2996           Yes                 No  \n",
       "2997            No                 No  \n",
       "2998           Yes                Yes  \n",
       "2999            No                 No  \n",
       "\n",
       "[5 rows x 24 columns]"
      ]
     },
     "execution_count": 20,
     "metadata": {},
     "output_type": "execute_result"
    }
   ],
   "source": [
    "## Print last five elements\n",
    "df.tail(5)"
   ]
  },
  {
   "cell_type": "code",
   "execution_count": 24,
   "id": "56cfb277",
   "metadata": {},
   "outputs": [
    {
     "data": {
      "text/html": [
       "<div>\n",
       "<style scoped>\n",
       "    .dataframe tbody tr th:only-of-type {\n",
       "        vertical-align: middle;\n",
       "    }\n",
       "\n",
       "    .dataframe tbody tr th {\n",
       "        vertical-align: top;\n",
       "    }\n",
       "\n",
       "    .dataframe thead th {\n",
       "        text-align: right;\n",
       "    }\n",
       "</style>\n",
       "<table border=\"1\" class=\"dataframe\">\n",
       "  <thead>\n",
       "    <tr style=\"text-align: right;\">\n",
       "      <th></th>\n",
       "      <th>Name</th>\n",
       "      <th>Age</th>\n",
       "      <th>City</th>\n",
       "    </tr>\n",
       "  </thead>\n",
       "  <tbody>\n",
       "    <tr>\n",
       "      <th>0</th>\n",
       "      <td>Welinton</td>\n",
       "      <td>20</td>\n",
       "      <td>Guaratingueta</td>\n",
       "    </tr>\n",
       "    <tr>\n",
       "      <th>1</th>\n",
       "      <td>Yasmin</td>\n",
       "      <td>19</td>\n",
       "      <td>Aparecida</td>\n",
       "    </tr>\n",
       "    <tr>\n",
       "      <th>2</th>\n",
       "      <td>Junior</td>\n",
       "      <td>22</td>\n",
       "      <td>Lorena</td>\n",
       "    </tr>\n",
       "  </tbody>\n",
       "</table>\n",
       "</div>"
      ],
      "text/plain": [
       "       Name  Age           City\n",
       "0  Welinton   20  Guaratingueta\n",
       "1    Yasmin   19      Aparecida\n",
       "2    Junior   22         Lorena"
      ]
     },
     "execution_count": 24,
     "metadata": {},
     "output_type": "execute_result"
    }
   ],
   "source": [
    "### Accessing Data from DataFrame\n",
    "df"
   ]
  },
  {
   "cell_type": "code",
   "execution_count": 30,
   "id": "f488fcd2",
   "metadata": {},
   "outputs": [
    {
     "data": {
      "text/plain": [
       "0    Welinton\n",
       "1      Yasmin\n",
       "2      Junior\n",
       "Name: Name, dtype: object"
      ]
     },
     "execution_count": 30,
     "metadata": {},
     "output_type": "execute_result"
    }
   ],
   "source": [
    "df['Name']"
   ]
  },
  {
   "cell_type": "code",
   "execution_count": 31,
   "id": "2ee73dbf",
   "metadata": {},
   "outputs": [
    {
     "data": {
      "text/plain": [
       "Name         Welinton\n",
       "Age                20\n",
       "City    Guaratingueta\n",
       "Name: 0, dtype: object"
      ]
     },
     "execution_count": 31,
     "metadata": {},
     "output_type": "execute_result"
    }
   ],
   "source": [
    "df.loc[0]"
   ]
  },
  {
   "cell_type": "code",
   "execution_count": 35,
   "id": "5bee20c4",
   "metadata": {},
   "outputs": [
    {
     "name": "stderr",
     "output_type": "stream",
     "text": [
      "/tmp/ipykernel_15010/2900375399.py:1: FutureWarning: Series.__getitem__ treating keys as positions is deprecated. In a future version, integer keys will always be treated as labels (consistent with DataFrame behavior). To access a value by position, use `ser.iloc[pos]`\n",
      "  df.iloc[0][0]\n"
     ]
    },
    {
     "data": {
      "text/plain": [
       "'Welinton'"
      ]
     },
     "execution_count": 35,
     "metadata": {},
     "output_type": "execute_result"
    }
   ],
   "source": [
    "df.iloc[0][0]"
   ]
  },
  {
   "cell_type": "code",
   "execution_count": 38,
   "id": "dd6696e6",
   "metadata": {},
   "outputs": [
    {
     "data": {
      "text/plain": [
       "np.int64(22)"
      ]
     },
     "execution_count": 38,
     "metadata": {},
     "output_type": "execute_result"
    }
   ],
   "source": [
    "## Accessing specified element\n",
    "df.at[2, 'Age']"
   ]
  },
  {
   "cell_type": "code",
   "execution_count": 39,
   "id": "2c996899",
   "metadata": {},
   "outputs": [
    {
     "data": {
      "text/plain": [
       "'Junior'"
      ]
     },
     "execution_count": 39,
     "metadata": {},
     "output_type": "execute_result"
    }
   ],
   "source": [
    "df.at[2, 'Name']"
   ]
  },
  {
   "cell_type": "code",
   "execution_count": 40,
   "id": "76e42e73",
   "metadata": {},
   "outputs": [
    {
     "data": {
      "text/plain": [
       "'Lorena'"
      ]
     },
     "execution_count": 40,
     "metadata": {},
     "output_type": "execute_result"
    }
   ],
   "source": [
    "## Accessing a specified element using iat\n",
    "df.iat[2,2]"
   ]
  },
  {
   "cell_type": "code",
   "execution_count": 41,
   "id": "29c0c76d",
   "metadata": {},
   "outputs": [
    {
     "data": {
      "text/html": [
       "<div>\n",
       "<style scoped>\n",
       "    .dataframe tbody tr th:only-of-type {\n",
       "        vertical-align: middle;\n",
       "    }\n",
       "\n",
       "    .dataframe tbody tr th {\n",
       "        vertical-align: top;\n",
       "    }\n",
       "\n",
       "    .dataframe thead th {\n",
       "        text-align: right;\n",
       "    }\n",
       "</style>\n",
       "<table border=\"1\" class=\"dataframe\">\n",
       "  <thead>\n",
       "    <tr style=\"text-align: right;\">\n",
       "      <th></th>\n",
       "      <th>Name</th>\n",
       "      <th>Age</th>\n",
       "      <th>City</th>\n",
       "    </tr>\n",
       "  </thead>\n",
       "  <tbody>\n",
       "    <tr>\n",
       "      <th>0</th>\n",
       "      <td>Welinton</td>\n",
       "      <td>20</td>\n",
       "      <td>Guaratingueta</td>\n",
       "    </tr>\n",
       "    <tr>\n",
       "      <th>1</th>\n",
       "      <td>Yasmin</td>\n",
       "      <td>19</td>\n",
       "      <td>Aparecida</td>\n",
       "    </tr>\n",
       "    <tr>\n",
       "      <th>2</th>\n",
       "      <td>Junior</td>\n",
       "      <td>22</td>\n",
       "      <td>Lorena</td>\n",
       "    </tr>\n",
       "  </tbody>\n",
       "</table>\n",
       "</div>"
      ],
      "text/plain": [
       "       Name  Age           City\n",
       "0  Welinton   20  Guaratingueta\n",
       "1    Yasmin   19      Aparecida\n",
       "2    Junior   22         Lorena"
      ]
     },
     "execution_count": 41,
     "metadata": {},
     "output_type": "execute_result"
    }
   ],
   "source": [
    "df"
   ]
  },
  {
   "cell_type": "code",
   "execution_count": 42,
   "id": "5cf8a2a6",
   "metadata": {},
   "outputs": [
    {
     "data": {
      "text/html": [
       "<div>\n",
       "<style scoped>\n",
       "    .dataframe tbody tr th:only-of-type {\n",
       "        vertical-align: middle;\n",
       "    }\n",
       "\n",
       "    .dataframe tbody tr th {\n",
       "        vertical-align: top;\n",
       "    }\n",
       "\n",
       "    .dataframe thead th {\n",
       "        text-align: right;\n",
       "    }\n",
       "</style>\n",
       "<table border=\"1\" class=\"dataframe\">\n",
       "  <thead>\n",
       "    <tr style=\"text-align: right;\">\n",
       "      <th></th>\n",
       "      <th>Name</th>\n",
       "      <th>Age</th>\n",
       "      <th>City</th>\n",
       "    </tr>\n",
       "  </thead>\n",
       "  <tbody>\n",
       "    <tr>\n",
       "      <th>0</th>\n",
       "      <td>Welinton</td>\n",
       "      <td>20</td>\n",
       "      <td>Guaratingueta</td>\n",
       "    </tr>\n",
       "    <tr>\n",
       "      <th>1</th>\n",
       "      <td>Yasmin</td>\n",
       "      <td>19</td>\n",
       "      <td>Aparecida</td>\n",
       "    </tr>\n",
       "    <tr>\n",
       "      <th>2</th>\n",
       "      <td>Junior</td>\n",
       "      <td>22</td>\n",
       "      <td>Lorena</td>\n",
       "    </tr>\n",
       "  </tbody>\n",
       "</table>\n",
       "</div>"
      ],
      "text/plain": [
       "       Name  Age           City\n",
       "0  Welinton   20  Guaratingueta\n",
       "1    Yasmin   19      Aparecida\n",
       "2    Junior   22         Lorena"
      ]
     },
     "execution_count": 42,
     "metadata": {},
     "output_type": "execute_result"
    }
   ],
   "source": [
    "### Data Manipulation with DataFrame\n",
    "df"
   ]
  },
  {
   "cell_type": "code",
   "execution_count": null,
   "id": "027e5fd6",
   "metadata": {},
   "outputs": [
    {
     "data": {
      "text/html": [
       "<div>\n",
       "<style scoped>\n",
       "    .dataframe tbody tr th:only-of-type {\n",
       "        vertical-align: middle;\n",
       "    }\n",
       "\n",
       "    .dataframe tbody tr th {\n",
       "        vertical-align: top;\n",
       "    }\n",
       "\n",
       "    .dataframe thead th {\n",
       "        text-align: right;\n",
       "    }\n",
       "</style>\n",
       "<table border=\"1\" class=\"dataframe\">\n",
       "  <thead>\n",
       "    <tr style=\"text-align: right;\">\n",
       "      <th></th>\n",
       "      <th>Name</th>\n",
       "      <th>Age</th>\n",
       "      <th>City</th>\n",
       "      <th>Salary</th>\n",
       "    </tr>\n",
       "  </thead>\n",
       "  <tbody>\n",
       "    <tr>\n",
       "      <th>0</th>\n",
       "      <td>Welinton</td>\n",
       "      <td>20</td>\n",
       "      <td>Guaratingueta</td>\n",
       "      <td>5000</td>\n",
       "    </tr>\n",
       "    <tr>\n",
       "      <th>1</th>\n",
       "      <td>Yasmin</td>\n",
       "      <td>19</td>\n",
       "      <td>Aparecida</td>\n",
       "      <td>6000</td>\n",
       "    </tr>\n",
       "    <tr>\n",
       "      <th>2</th>\n",
       "      <td>Junior</td>\n",
       "      <td>22</td>\n",
       "      <td>Lorena</td>\n",
       "      <td>7000</td>\n",
       "    </tr>\n",
       "  </tbody>\n",
       "</table>\n",
       "</div>"
      ],
      "text/plain": [
       "       Name  Age           City  Salary\n",
       "0  Welinton   20  Guaratingueta    5000\n",
       "1    Yasmin   19      Aparecida    6000\n",
       "2    Junior   22         Lorena    7000"
      ]
     },
     "execution_count": 44,
     "metadata": {},
     "output_type": "execute_result"
    }
   ],
   "source": [
    "## Adding a column\n",
    "df['Salary'] = [5000, 6000, 7000]\n",
    "df"
   ]
  },
  {
   "cell_type": "code",
   "execution_count": 51,
   "id": "10ed1fa6",
   "metadata": {},
   "outputs": [],
   "source": [
    "## Remove a column\n",
    "df = df.drop('Salary', axis=1)"
   ]
  },
  {
   "cell_type": "code",
   "execution_count": 52,
   "id": "fa8b61c2",
   "metadata": {},
   "outputs": [
    {
     "data": {
      "text/html": [
       "<div>\n",
       "<style scoped>\n",
       "    .dataframe tbody tr th:only-of-type {\n",
       "        vertical-align: middle;\n",
       "    }\n",
       "\n",
       "    .dataframe tbody tr th {\n",
       "        vertical-align: top;\n",
       "    }\n",
       "\n",
       "    .dataframe thead th {\n",
       "        text-align: right;\n",
       "    }\n",
       "</style>\n",
       "<table border=\"1\" class=\"dataframe\">\n",
       "  <thead>\n",
       "    <tr style=\"text-align: right;\">\n",
       "      <th></th>\n",
       "      <th>Name</th>\n",
       "      <th>Age</th>\n",
       "      <th>City</th>\n",
       "    </tr>\n",
       "  </thead>\n",
       "  <tbody>\n",
       "    <tr>\n",
       "      <th>0</th>\n",
       "      <td>Welinton</td>\n",
       "      <td>20</td>\n",
       "      <td>Guaratingueta</td>\n",
       "    </tr>\n",
       "    <tr>\n",
       "      <th>1</th>\n",
       "      <td>Yasmin</td>\n",
       "      <td>19</td>\n",
       "      <td>Aparecida</td>\n",
       "    </tr>\n",
       "    <tr>\n",
       "      <th>2</th>\n",
       "      <td>Junior</td>\n",
       "      <td>22</td>\n",
       "      <td>Lorena</td>\n",
       "    </tr>\n",
       "  </tbody>\n",
       "</table>\n",
       "</div>"
      ],
      "text/plain": [
       "       Name  Age           City\n",
       "0  Welinton   20  Guaratingueta\n",
       "1    Yasmin   19      Aparecida\n",
       "2    Junior   22         Lorena"
      ]
     },
     "execution_count": 52,
     "metadata": {},
     "output_type": "execute_result"
    }
   ],
   "source": [
    "df"
   ]
  }
 ],
 "metadata": {
  "kernelspec": {
   "display_name": "Python 3",
   "language": "python",
   "name": "python3"
  },
  "language_info": {
   "codemirror_mode": {
    "name": "ipython",
    "version": 3
   },
   "file_extension": ".py",
   "mimetype": "text/x-python",
   "name": "python",
   "nbconvert_exporter": "python",
   "pygments_lexer": "ipython3",
   "version": "3.12.0"
  }
 },
 "nbformat": 4,
 "nbformat_minor": 5
}
