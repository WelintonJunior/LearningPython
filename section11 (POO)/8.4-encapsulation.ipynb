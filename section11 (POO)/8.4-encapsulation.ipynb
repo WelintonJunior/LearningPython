{
 "cells": [
  {
   "cell_type": "markdown",
   "id": "b110ebe8",
   "metadata": {},
   "source": [
    "### Encapsulation\n",
    "\n",
    "Encapsulation and abstraction are two fundamental principles of POO tha help in designing robust, maintainable, and reusable code. Encapsulation involves bundling data and methods that operate on the data within a single unit, while abstraction involves hiding complex implementation details and exposing only the necessary features.\n",
    "\n",
    "## Ecapsulation\n",
    "\n",
    "Encapsulation is the concept of wrapping data (variables) and methods (functions) together as a single unit. It restricts direct acess to some of the object's components, which is a means of preventing accidental interference and misuse of the data.\n",
    "\n"
   ]
  },
  {
   "cell_type": "code",
   "execution_count": null,
   "id": "7a8553be",
   "metadata": {},
   "outputs": [
    {
     "name": "stdout",
     "output_type": "stream",
     "text": [
      "welinton\n",
      "welinton\n",
      "12996138271\n"
     ]
    }
   ],
   "source": [
    "### Encapsulation with Getter and Setter Methods\n",
    "### Public, protected, private variables or access modifiers\n",
    "\n",
    "class Person:\n",
    "    def __init__(self, name, age, __number):\n",
    "        self.name = name ##Public variables\n",
    "        self.age = age ##Public variables\n",
    "        self.__number = __number\n",
    "    \n",
    "    def get_number(self):\n",
    "        return self.__number\n",
    "    \n",
    "def get_name(person):\n",
    "    return person.name\n",
    "\n",
    "person=Person(\"welinton\", 20, \"12996138271\")\n",
    "print(person.name)\n",
    "print(get_name(person))\n",
    "# Erro, já que estou definindo la na minha classe que\n",
    "# number é um atributo privado, que apenas métodos dentro da classe\n",
    "# tem acesso\n",
    "# print(person.__number)\n",
    "print(person.get_number())"
   ]
  },
  {
   "cell_type": "code",
   "execution_count": 2,
   "id": "ce35b35f",
   "metadata": {},
   "outputs": [
    {
     "data": {
      "text/plain": [
       "['__class__',\n",
       " '__delattr__',\n",
       " '__dict__',\n",
       " '__dir__',\n",
       " '__doc__',\n",
       " '__eq__',\n",
       " '__format__',\n",
       " '__ge__',\n",
       " '__getattribute__',\n",
       " '__getstate__',\n",
       " '__gt__',\n",
       " '__hash__',\n",
       " '__init__',\n",
       " '__init_subclass__',\n",
       " '__le__',\n",
       " '__lt__',\n",
       " '__module__',\n",
       " '__ne__',\n",
       " '__new__',\n",
       " '__reduce__',\n",
       " '__reduce_ex__',\n",
       " '__repr__',\n",
       " '__setattr__',\n",
       " '__sizeof__',\n",
       " '__str__',\n",
       " '__subclasshook__',\n",
       " '__weakref__',\n",
       " 'age',\n",
       " 'name']"
      ]
     },
     "execution_count": 2,
     "metadata": {},
     "output_type": "execute_result"
    }
   ],
   "source": [
    "dir(person)"
   ]
  }
 ],
 "metadata": {
  "kernelspec": {
   "display_name": "Python 3",
   "language": "python",
   "name": "python3"
  },
  "language_info": {
   "codemirror_mode": {
    "name": "ipython",
    "version": 3
   },
   "file_extension": ".py",
   "mimetype": "text/x-python",
   "name": "python",
   "nbconvert_exporter": "python",
   "pygments_lexer": "ipython3",
   "version": "3.12.0"
  }
 },
 "nbformat": 4,
 "nbformat_minor": 5
}
