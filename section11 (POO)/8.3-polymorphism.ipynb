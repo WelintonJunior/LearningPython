{
 "cells": [
  {
   "cell_type": "markdown",
   "id": "d273211f",
   "metadata": {},
   "source": [
    "### Method Overriding\n",
    "### allows a child class to provide a specific implementation of a method that is already defined in its parent class\n"
   ]
  },
  {
   "cell_type": "code",
   "execution_count": 7,
   "id": "bd4e4b78",
   "metadata": {},
   "outputs": [
    {
     "name": "stdout",
     "output_type": "stream",
     "text": [
      "Dog say woof\n",
      "Cat say meow\n"
     ]
    }
   ],
   "source": [
    "## Base class\n",
    "class Animal:\n",
    "    def speak(self):\n",
    "        return \"Sound of the animal\"\n",
    "\n",
    "## Derived Class 1\n",
    "class Dog(Animal):\n",
    "    def speak(self):\n",
    "        return \"Dog say woof\"\n",
    "    \n",
    "## Derived Class 2\n",
    "class Cat(Animal):\n",
    "    def speak(self):\n",
    "        return \"Cat say meow\"\n",
    "\n",
    "## Derived Class 3\n",
    "class Monkey:\n",
    "    None\n",
    "\n",
    "\n",
    "def animal_speak(animal):\n",
    "    print(animal.speak())\n",
    "\n",
    "dog1 = Dog()\n",
    "animal_speak(dog1)\n",
    "\n",
    "cat1 = Cat()\n",
    "animal_speak(cat1)\n",
    "\n",
    "## Erro ja que monkey não possui speak\n",
    "# monkey1 = Monkey()\n",
    "# animal_speak(monkey1)"
   ]
  },
  {
   "cell_type": "code",
   "execution_count": 9,
   "id": "df56a1ce",
   "metadata": {},
   "outputs": [
    {
     "name": "stdout",
     "output_type": "stream",
     "text": [
      "the area is 20\n",
      "the area is 28.259999999999998\n"
     ]
    }
   ],
   "source": [
    "## Polymorphism with functions and method\n",
    "## Base class\n",
    "class Shape:\n",
    "    def area(self):\n",
    "        return \"The area of the figure\"\n",
    "\n",
    "## Derived Class 1\n",
    "class Rectangle(Shape):\n",
    "    def __init__(self, width, height):\n",
    "        self.width = width\n",
    "        self.height = height\n",
    "    \n",
    "    def area(self):\n",
    "        return self.width * self.height\n",
    "\n",
    "## Derived Class 2\n",
    "class Circle(Shape):\n",
    "    def __init__(self, radius):\n",
    "        self.radius = radius\n",
    "    \n",
    "    def area(self):\n",
    "        return self.radius * 3.14 * self.radius\n",
    "\n",
    "## Function that demonstrates polymosrphism\n",
    "def print_area(shape):\n",
    "    print(f\"the area is {shape.area()}\")\n",
    "\n",
    "rectangle= Rectangle(4, 5)\n",
    "circle= Circle(3)\n",
    "\n",
    "print_area(rectangle)\n",
    "print_area(circle)"
   ]
  },
  {
   "cell_type": "markdown",
   "id": "c4f21971",
   "metadata": {},
   "source": [
    "### Polymorphism with Abstract Base Classes\n",
    "Abstract Base Classes (ABCs) are used to define common method for a group of related objects. \n",
    "They can enforce derived classes implement particular methods, promoting consistency across different implementations"
   ]
  },
  {
   "cell_type": "code",
   "execution_count": 14,
   "id": "bf866649",
   "metadata": {},
   "outputs": [
    {
     "name": "stdout",
     "output_type": "stream",
     "text": [
      "Car engine started\n",
      "Motorcycle engine started\n"
     ]
    }
   ],
   "source": [
    "from abc import ABC, abstractmethod\n",
    "\n",
    "## DEfine an abstract class\n",
    "class Vehicle(ABC):\n",
    "    @abstractmethod\n",
    "    def start_engine(self):\n",
    "        pass\n",
    "\n",
    "## Derived Class 1\n",
    "class Car(Vehicle):\n",
    "    def start_engine(self):\n",
    "        return \"Car engine started\"\n",
    "\n",
    "## Derived class 2\n",
    "class Motorcycle(Vehicle):\n",
    "    def start_engine(self):\n",
    "        return \"Motorcycle engine started\"\n",
    "    \n",
    "## Derived class 3\n",
    "## Da erro ja que bicicleta deve ter o método comum da classe abstrata para não dar erro\n",
    "# class Bicycle(Vehicle):\n",
    "#     def pedalar(self):\n",
    "#         return \"Pedalando\"\n",
    "\n",
    "car1 = Car()\n",
    "moto1 = Motorcycle()\n",
    "# bike1 = Bicycle()\n",
    "\n",
    "print(car1.start_engine())\n",
    "print(moto1.start_engine())\n",
    "# print(bike1.start_engine())"
   ]
  }
 ],
 "metadata": {
  "kernelspec": {
   "display_name": "Python 3",
   "language": "python",
   "name": "python3"
  },
  "language_info": {
   "codemirror_mode": {
    "name": "ipython",
    "version": 3
   },
   "file_extension": ".py",
   "mimetype": "text/x-python",
   "name": "python",
   "nbconvert_exporter": "python",
   "pygments_lexer": "ipython3",
   "version": "3.12.0"
  }
 },
 "nbformat": 4,
 "nbformat_minor": 5
}
