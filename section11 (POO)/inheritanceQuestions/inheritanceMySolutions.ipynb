{
 "cells": [
  {
   "cell_type": "markdown",
   "id": "fe1b5701",
   "metadata": {},
   "source": [
    "### Assign 1"
   ]
  },
  {
   "cell_type": "code",
   "execution_count": 2,
   "id": "75a908f6",
   "metadata": {},
   "outputs": [
    {
     "name": "stdout",
     "output_type": "stream",
     "text": [
      "pico, chorro, 1\n"
     ]
    }
   ],
   "source": [
    "class Animal:\n",
    "    def __init__(self,name,species):\n",
    "        self.name = name\n",
    "        self.species = species\n",
    "\n",
    "class Dog(Animal):\n",
    "    def __init__(self,name,species,breed):\n",
    "        super().__init__(name, species)\n",
    "        self.breed = breed\n",
    "\n",
    "dog1 = Dog(\"pico\", \"chorro\", 1)\n",
    "print(f\"{dog1.name}, {dog1.species}, {dog1.breed}\")"
   ]
  },
  {
   "cell_type": "markdown",
   "id": "4d1800c7",
   "metadata": {},
   "source": [
    "### Assign 2"
   ]
  },
  {
   "cell_type": "code",
   "execution_count": 3,
   "id": "ba1ed763",
   "metadata": {},
   "outputs": [
    {
     "name": "stdout",
     "output_type": "stream",
     "text": [
      "pico, chorro, 1\n"
     ]
    }
   ],
   "source": [
    "class Dog(Animal):\n",
    "    def __init__(self,name,species,breed):\n",
    "        super().__init__(name, species)\n",
    "        self.breed = breed\n",
    "    \n",
    "    def __str__(self):\n",
    "        return f\"{self.name}, {self.species}, {self.breed}\"\n",
    "\n",
    "dog2 = Dog(\"pico\", \"chorro\", 1)\n",
    "print(dog2.__str__())"
   ]
  },
  {
   "cell_type": "markdown",
   "id": "5f46b099",
   "metadata": {},
   "source": [
    "### Assign 3"
   ]
  },
  {
   "cell_type": "code",
   "execution_count": 5,
   "id": "d7b7c119",
   "metadata": {},
   "outputs": [
    {
     "name": "stdout",
     "output_type": "stream",
     "text": [
      "pico says woof\n"
     ]
    }
   ],
   "source": [
    "class Dog(Animal):\n",
    "    def __init__(self,name,species,breed):\n",
    "        super().__init__(name, species)\n",
    "        self.breed = breed\n",
    "    \n",
    "    def __str__(self):\n",
    "        return f\"{self.name}, {self.species}, {self.breed}\"\n",
    "\n",
    "    def bark(self):\n",
    "        return f\"{self.name} says woof\"\n",
    "\n",
    "dog3 = Dog(\"pico\", \"chorro\", 1)\n",
    "print(dog3.bark())"
   ]
  },
  {
   "cell_type": "markdown",
   "id": "d55bcf58",
   "metadata": {},
   "source": [
    "### Assign 4"
   ]
  },
  {
   "cell_type": "code",
   "execution_count": 7,
   "id": "f2f525ad",
   "metadata": {},
   "outputs": [
    {
     "name": "stdout",
     "output_type": "stream",
     "text": [
      "walking\n",
      "running\n"
     ]
    }
   ],
   "source": [
    "class Walker:\n",
    "    def walk(self):\n",
    "        return \"walking\"\n",
    "\n",
    "class Runner:\n",
    "    def run(self):\n",
    "        return \"running\"\n",
    "\n",
    "class Athlete(Walker, Runner):\n",
    "    pass\n",
    "\n",
    "felps = Athlete()\n",
    "print(felps.walk())\n",
    "print(felps.run())"
   ]
  },
  {
   "cell_type": "markdown",
   "id": "5018acc5",
   "metadata": {},
   "source": [
    "### Assign 5"
   ]
  },
  {
   "cell_type": "code",
   "execution_count": 15,
   "id": "99ce94db",
   "metadata": {},
   "outputs": [
    {
     "name": "stdout",
     "output_type": "stream",
     "text": [
      "Athlete walking...\n"
     ]
    }
   ],
   "source": [
    "class Walker:\n",
    "    def walk(self):\n",
    "        return \"walking\"\n",
    "\n",
    "class Runner:\n",
    "    def run(self):\n",
    "        return \"running\"\n",
    "\n",
    "class Athlete(Walker, Runner):\n",
    "    def walk(self):\n",
    "        print(\"Athlete walking...\")\n",
    "        super().walk()\n",
    "\n",
    "athlete = Athlete()\n",
    "athlete.walk()\n"
   ]
  },
  {
   "cell_type": "markdown",
   "id": "bcadf7e8",
   "metadata": {},
   "source": [
    "### Assign 6"
   ]
  },
  {
   "cell_type": "code",
   "execution_count": 17,
   "id": "a3695cf0",
   "metadata": {},
   "outputs": [
    {
     "name": "stdout",
     "output_type": "stream",
     "text": [
      "29\n"
     ]
    }
   ],
   "source": [
    "class Walker:\n",
    "    def walk(self):\n",
    "        return \"walking\"\n",
    "\n",
    "class Runner:\n",
    "    def run(self):\n",
    "        return \"running\"\n",
    "\n",
    "class Athlete(Walker, Runner):\n",
    "    def __init__(self, training_hours):\n",
    "        self.training_hours = training_hours\n",
    "    \n",
    "    def train(self):\n",
    "        print(self.training_hours)\n",
    "\n",
    "    def walk(self):\n",
    "        print(\"Athlete walking...\")\n",
    "        super().walk()\n",
    "\n",
    "athlete = Athlete(29)\n",
    "athlete.train()"
   ]
  },
  {
   "cell_type": "markdown",
   "id": "cb2ee0c7",
   "metadata": {},
   "source": [
    "### Assign 7"
   ]
  },
  {
   "cell_type": "code",
   "execution_count": null,
   "id": "92bd4133",
   "metadata": {},
   "outputs": [
    {
     "name": "stdout",
     "output_type": "stream",
     "text": [
      "override c\n"
     ]
    }
   ],
   "source": [
    "class A:\n",
    "    def show(self):\n",
    "        print(\"Message\")\n",
    "    \n",
    "class B(A):\n",
    "    def show(self):\n",
    "        print(\"override b\")\n",
    "\n",
    "class C(A):\n",
    "    def show(self):\n",
    "        print(\"override c\")\n",
    "\n",
    "# A ordem muda a preferencia do método, se o C vier primeiro ele usa \n",
    "# o show do C e vice versa\n",
    "class D(C, B):\n",
    "    pass\n",
    "\n",
    "d = D()\n",
    "d.show()"
   ]
  },
  {
   "cell_type": "markdown",
   "id": "8ee7a914",
   "metadata": {},
   "source": [
    "### Asssign 8"
   ]
  },
  {
   "cell_type": "code",
   "execution_count": 24,
   "id": "4029876d",
   "metadata": {},
   "outputs": [
    {
     "name": "stdout",
     "output_type": "stream",
     "text": [
      "Green, 10\n"
     ]
    }
   ],
   "source": [
    "class Shape:\n",
    "    def __init__(self, color):\n",
    "        self.color= color\n",
    "    \n",
    "class Circle(Shape):\n",
    "    def __init__(self, radius, color):\n",
    "        super().__init__(color)\n",
    "        self.radius = radius\n",
    "\n",
    "circle1 = Circle(10, \"Green\")\n",
    "print(f\"{circle1.color}, {circle1.radius}\")"
   ]
  },
  {
   "cell_type": "markdown",
   "id": "211222c2",
   "metadata": {},
   "source": [
    "### Assign 9"
   ]
  },
  {
   "cell_type": "code",
   "execution_count": 27,
   "id": "7707f0bc",
   "metadata": {},
   "outputs": [
    {
     "name": "stdout",
     "output_type": "stream",
     "text": [
      "Welinton, 1\n"
     ]
    }
   ],
   "source": [
    "class Person:\n",
    "    def __init__(self, name):\n",
    "        self.name = name\n",
    "\n",
    "class Employee:\n",
    "    def __init__(self, employee_id):\n",
    "        self.employee_id = employee_id\n",
    "\n",
    "class Manager(Person, Employee):\n",
    "    def __init__(self, name, employee_id):\n",
    "        super().__init__(name)\n",
    "        Employee.__init__(self, employee_id)\n",
    "\n",
    "manager1 = Manager(\"Welinton\", 1)\n",
    "print(f\"{manager1.name}, {manager1.employee_id}\")"
   ]
  },
  {
   "cell_type": "markdown",
   "id": "a5b842ca",
   "metadata": {},
   "source": [
    "### Assign 10"
   ]
  },
  {
   "cell_type": "code",
   "execution_count": 28,
   "id": "3c4d1677",
   "metadata": {},
   "outputs": [
    {
     "name": "stdout",
     "output_type": "stream",
     "text": [
      "starting engine\n",
      "different message\n"
     ]
    }
   ],
   "source": [
    "class Vehicle:\n",
    "    def start(self):\n",
    "        print(\"starting engine\")\n",
    "\n",
    "class Car(Vehicle):\n",
    "    def start(self):\n",
    "        super().start()\n",
    "        print(\"different message\")\n",
    "\n",
    "car1 = Car()\n",
    "car1.start()"
   ]
  },
  {
   "cell_type": "markdown",
   "id": "827e0860",
   "metadata": {},
   "source": [
    "### Assign 11"
   ]
  },
  {
   "cell_type": "code",
   "execution_count": 29,
   "id": "40dc1f6d",
   "metadata": {},
   "outputs": [
    {
     "name": "stdout",
     "output_type": "stream",
     "text": [
      "flying\n",
      "swimming\n"
     ]
    }
   ],
   "source": [
    "class Flyer:\n",
    "    def fly(self):\n",
    "        print(\"flying\")\n",
    "\n",
    "class Swimmer:\n",
    "    def swin(self):\n",
    "        print(\"swimming\")\n",
    "\n",
    "class Superhero(Flyer, Swimmer):\n",
    "    pass\n",
    "\n",
    "batman = Superhero()\n",
    "batman.fly()\n",
    "batman.swin()"
   ]
  },
  {
   "cell_type": "markdown",
   "id": "0585525c",
   "metadata": {},
   "source": [
    "### Assign 12"
   ]
  },
  {
   "cell_type": "code",
   "execution_count": 34,
   "id": "4dad7b6e",
   "metadata": {},
   "outputs": [
    {
     "name": "stdout",
     "output_type": "stream",
     "text": [
      "(1, 2, 3)\n"
     ]
    }
   ],
   "source": [
    "class Base1:\n",
    "    def __init__(self, a):\n",
    "        self.a = a\n",
    "\n",
    "class Base2:\n",
    "    def __init__(self, b):\n",
    "        self.b = b\n",
    "\n",
    "class Derived(Base1, Base2):\n",
    "    def __init__(self, a, b, c):\n",
    "        super().__init__(a)\n",
    "        Base2.b = b\n",
    "        self.c = c\n",
    "\n",
    "derived = Derived(1,2,3)\n",
    "print(f\"{derived.a, derived.b, derived.c}\")\n"
   ]
  },
  {
   "cell_type": "markdown",
   "id": "9ef23706",
   "metadata": {},
   "source": [
    "### Assign 13\n"
   ]
  },
  {
   "cell_type": "code",
   "execution_count": 38,
   "id": "8304839c",
   "metadata": {},
   "outputs": [
    {
     "name": "stdout",
     "output_type": "stream",
     "text": [
      "True\n",
      "False\n",
      "True\n",
      "True\n"
     ]
    }
   ],
   "source": [
    "class Animal:\n",
    "    pass\n",
    "\n",
    "class Cat(Animal):\n",
    "    pass\n",
    "\n",
    "animal1 = Animal()\n",
    "cat1 = Cat()\n",
    "\n",
    "print(isinstance(animal1, Animal))\n",
    "print(isinstance(animal1, Cat))\n",
    "print(isinstance(cat1, Animal))\n",
    "print(isinstance(cat1, Cat))"
   ]
  },
  {
   "cell_type": "markdown",
   "id": "0ce239e4",
   "metadata": {},
   "source": [
    "### Assign 14"
   ]
  },
  {
   "cell_type": "code",
   "execution_count": 40,
   "id": "a6e693ff",
   "metadata": {},
   "outputs": [
    {
     "name": "stdout",
     "output_type": "stream",
     "text": [
      "sdajkjffd\n",
      "8239218\n",
      "sdajkjffd\n",
      "asd\n"
     ]
    }
   ],
   "source": [
    "class Bird:\n",
    "    def speak(self):\n",
    "        print(\"asd\")\n",
    "\n",
    "class Parrot(Bird):\n",
    "    def speak(self):\n",
    "        print(\"sdajkjffd\")\n",
    "\n",
    "class Penguin(Bird):\n",
    "    def speak(self):\n",
    "        print(\"8239218\")\n",
    "\n",
    "\n",
    "\n",
    "bird1 = Parrot()\n",
    "bird2 = Penguin()\n",
    "bird3 = Parrot()\n",
    "bird4 = Bird()\n",
    "\n",
    "birds = [bird1, bird2, bird3, bird4]\n",
    "\n",
    "for bird in birds:\n",
    "    bird.speak()"
   ]
  },
  {
   "cell_type": "markdown",
   "id": "4656e02c",
   "metadata": {},
   "source": [
    "### Assign 15"
   ]
  },
  {
   "cell_type": "code",
   "execution_count": 45,
   "id": "8d2452b1",
   "metadata": {},
   "outputs": [
    {
     "name": "stdout",
     "output_type": "stream",
     "text": [
      "('2', 'samsung', '1230912')\n"
     ]
    }
   ],
   "source": [
    "class Device:\n",
    "    def __init__(self, brand):\n",
    "        self.brand = brand\n",
    "\n",
    "class Phone(Device):\n",
    "    def __init__(self, brand, model):\n",
    "        super().__init__(brand)\n",
    "        self.model = model\n",
    "\n",
    "class Camera:\n",
    "    def __init__(self, resolution):\n",
    "        self.resolution = resolution\n",
    "\n",
    "class Smarthphone(Phone, Camera):\n",
    "    def __init__(self, brand, model, resolution):\n",
    "        Phone.model = model\n",
    "        Phone.brand = brand\n",
    "        Camera.resolution = resolution\n",
    "\n",
    "celular = Smarthphone(\"2\", \"samsung\", \"1230912\")\n",
    "print(f\"{celular.brand, celular.model, celular.resolution}\")"
   ]
  }
 ],
 "metadata": {
  "kernelspec": {
   "display_name": "Python 3",
   "language": "python",
   "name": "python3"
  },
  "language_info": {
   "codemirror_mode": {
    "name": "ipython",
    "version": 3
   },
   "file_extension": ".py",
   "mimetype": "text/x-python",
   "name": "python",
   "nbconvert_exporter": "python",
   "pygments_lexer": "ipython3",
   "version": "3.12.0"
  }
 },
 "nbformat": 4,
 "nbformat_minor": 5
}
