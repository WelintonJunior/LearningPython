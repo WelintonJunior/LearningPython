{
 "cells": [
  {
   "cell_type": "code",
   "execution_count": null,
   "id": "241401e3",
   "metadata": {},
   "outputs": [],
   "source": [
    "## Single Inheritance\n",
    "## Parent class (classe pai)\n",
    "\n",
    "class Car:\n",
    "    def __init__(self, windows, door, engine_type):\n",
    "        self.windows=windows\n",
    "        self.door=door\n",
    "        self.engine_type=engine_type\n",
    "\n",
    "    def drive(self):\n",
    "        print(f\"The person will drive the {self.engine_type} car\")"
   ]
  },
  {
   "cell_type": "code",
   "execution_count": 15,
   "id": "686cc1fa",
   "metadata": {},
   "outputs": [
    {
     "name": "stdout",
     "output_type": "stream",
     "text": [
      "The person will drive the petrol car\n"
     ]
    }
   ],
   "source": [
    "car1=Car(4,5,\"petrol\")\n",
    "car1.drive()"
   ]
  },
  {
   "cell_type": "code",
   "execution_count": 17,
   "id": "e81fbd18",
   "metadata": {},
   "outputs": [
    {
     "name": "stdout",
     "output_type": "stream",
     "text": [
      "The person will drive the tesla car\n",
      "Car self driving\n"
     ]
    }
   ],
   "source": [
    "## Child class\n",
    "class Tesla(Car):\n",
    "    def __init__(self, windows, door, engine_type, is_self_driving):\n",
    "        super().__init__(windows, door, engine_type)\n",
    "        self.is_self_driving=is_self_driving\n",
    "    \n",
    "    def self_driving(self):\n",
    "        if self.is_self_driving:\n",
    "            print(f\"Car self driving\")\n",
    "\n",
    "tesla1=Tesla(4, 6, \"tesla\", True)\n",
    "tesla1.drive()\n",
    "tesla1.self_driving()\n",
    "\n"
   ]
  },
  {
   "cell_type": "code",
   "execution_count": 22,
   "id": "54e7e1dd",
   "metadata": {},
   "outputs": [
    {
     "name": "stdout",
     "output_type": "stream",
     "text": [
      "Pico say woof\n",
      "Owner: Welinton\n"
     ]
    }
   ],
   "source": [
    "## Multiple Inheritance\n",
    "## When a class inherits more than one base class\n",
    "\n",
    "## Base class 1\n",
    "class Animal:\n",
    "    def __init__(self, name):\n",
    "        self.name = name\n",
    "\n",
    "    def speak(self):\n",
    "        print(\"Subclass must implement this method\")\n",
    "\n",
    "## Base class 2\n",
    "class Pet:\n",
    "    def __init__(self, owner):\n",
    "        self.owner = owner\n",
    "\n",
    "## Derived class\n",
    "class Cat(Animal, Pet):\n",
    "    def __init__(self, name, owner):\n",
    "        Animal.__init__(self, name)\n",
    "        Pet.__init__(self, owner)\n",
    "    \n",
    "    ## Deu uma especie de prioridade em cima do speak la da classe base\n",
    "    def speak(self):\n",
    "        return f\"{self.name} say woof\"\n",
    "\n",
    "cat1=Cat(\"Pico\", \"Welinton\")\n",
    "print(cat1.speak())\n",
    "print(f\"Owner: {cat1.owner}\")"
   ]
  }
 ],
 "metadata": {
  "kernelspec": {
   "display_name": "Python 3",
   "language": "python",
   "name": "python3"
  },
  "language_info": {
   "codemirror_mode": {
    "name": "ipython",
    "version": 3
   },
   "file_extension": ".py",
   "mimetype": "text/x-python",
   "name": "python",
   "nbconvert_exporter": "python",
   "pygments_lexer": "ipython3",
   "version": "3.12.0"
  }
 },
 "nbformat": 4,
 "nbformat_minor": 5
}
