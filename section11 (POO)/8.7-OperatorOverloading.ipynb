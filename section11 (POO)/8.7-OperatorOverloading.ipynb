{
 "cells": [
  {
   "cell_type": "markdown",
   "id": "344645d5",
   "metadata": {},
   "source": [
    "### Operator Overloading\n",
    "\n",
    "Operator overloading allows you to define the behaviour of operators (+, -, *, etc.) from custom objects. You achieve this by overriding specific magic methods in your class"
   ]
  },
  {
   "cell_type": "code",
   "execution_count": null,
   "id": "94d34260",
   "metadata": {},
   "outputs": [],
   "source": [
    "#### Common Operator Overloading Magic Methods\n",
    "\n",
    "'''\n",
    "__add__(self, other): Adds two objects using the + operator\n",
    "__sub__(self, other): Subtracts two objects using the - operator\n",
    "__mul__(self, other): Multiplies two objects using the * operator\n",
    "__truediv__(self, other): Divides two objects using the / operator\n",
    "__eq__(self, other): Checks if two objects are equal using the == operator\n",
    "__lt__(self, other): Check if one object is less than another using the < operator\n",
    "__gt__\n",
    "'''"
   ]
  },
  {
   "cell_type": "code",
   "execution_count": 5,
   "id": "ebc8a879",
   "metadata": {},
   "outputs": [
    {
     "name": "stdout",
     "output_type": "stream",
     "text": [
      "Vector(6, 8)\n",
      "Vector(-2, -2)\n",
      "Vector(8, 15)\n",
      "False\n",
      "Vector(2, 3)\n",
      "Vector(4, 5)\n"
     ]
    }
   ],
   "source": [
    "class Vector:\n",
    "    def __init__(self, x, y):\n",
    "        self.x = x\n",
    "        self.y = y\n",
    "    \n",
    "    def __add__(self, other):\n",
    "        return Vector(self.x + other.x, self.y + other.y)\n",
    "\n",
    "    def __sub__(self, other):\n",
    "        return Vector(self.x - other.x, self.y - other.y)\n",
    "\n",
    "    def __mul__(self, other):\n",
    "        return Vector(self.x * other.x, self.y * other.y)\n",
    "    \n",
    "    def __eq__(self, other):\n",
    "        return self.x == other.x and self.y == other.y\n",
    "    \n",
    "    def __repr__(self):\n",
    "        return f\"Vector({self.x}, {self.y})\"\n",
    "\n",
    "## Create objects of the Vector Class\n",
    "v1 = Vector(2, 3)\n",
    "v2 = Vector(4, 5)\n",
    "\n",
    "print(v1+v2)\n",
    "print(v1-v2)\n",
    "print(v1*v2)\n",
    "print(v1==v2)\n",
    "print(repr(v1))\n",
    "print(repr(v2))\n",
    "    \n"
   ]
  }
 ],
 "metadata": {
  "kernelspec": {
   "display_name": "Python 3",
   "language": "python",
   "name": "python3"
  },
  "language_info": {
   "codemirror_mode": {
    "name": "ipython",
    "version": 3
   },
   "file_extension": ".py",
   "mimetype": "text/x-python",
   "name": "python",
   "nbconvert_exporter": "python",
   "pygments_lexer": "ipython3",
   "version": "3.12.0"
  }
 },
 "nbformat": 4,
 "nbformat_minor": 5
}
