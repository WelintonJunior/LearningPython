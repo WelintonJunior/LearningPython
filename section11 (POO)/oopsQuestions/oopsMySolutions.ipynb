{
 "cells": [
  {
   "cell_type": "markdown",
   "id": "bf03eb6c",
   "metadata": {},
   "source": [
    "### Assign 1"
   ]
  },
  {
   "cell_type": "code",
   "execution_count": null,
   "id": "988a94cf",
   "metadata": {},
   "outputs": [
    {
     "name": "stdout",
     "output_type": "stream",
     "text": [
      "1256.0\n",
      "25\n"
     ]
    }
   ],
   "source": [
    "class Shape:\n",
    "    def area(self):\n",
    "        return \"Area shape\"\n",
    "\n",
    "class Circle(Shape):\n",
    "    def __init__(self, radius):\n",
    "        self.radius = radius\n",
    "\n",
    "    def area(self):\n",
    "        return self.radius * 3.14 * self.radius\n",
    "\n",
    "class Square(Shape):\n",
    "    def __init__(self, lado1, lado2):\n",
    "        self.lado1 = lado1\n",
    "        self.lado2 = lado2\n",
    "\n",
    "    def area(self):\n",
    "        return self.lado1 * self.lado2\n",
    "\n",
    "circle1 = Circle(20)\n",
    "square1 = Square(5, 5)\n",
    "\n",
    "print(circle1.area())\n",
    "print(square1.area())"
   ]
  },
  {
   "cell_type": "markdown",
   "id": "d9fc21b1",
   "metadata": {},
   "source": [
    "### Assign 2"
   ]
  },
  {
   "cell_type": "code",
   "execution_count": 7,
   "id": "658139c9",
   "metadata": {},
   "outputs": [
    {
     "name": "stdout",
     "output_type": "stream",
     "text": [
      "1256.0\n",
      "25\n"
     ]
    }
   ],
   "source": [
    "def describe_shape(shape):\n",
    "    return shape.area()\n",
    "\n",
    "print(describe_shape(circle1))\n",
    "print(describe_shape(square1))"
   ]
  },
  {
   "cell_type": "markdown",
   "id": "3e286737",
   "metadata": {},
   "source": [
    "### Assign 3"
   ]
  },
  {
   "cell_type": "code",
   "execution_count": 3,
   "id": "8de07321",
   "metadata": {},
   "outputs": [
    {
     "name": "stdout",
     "output_type": "stream",
     "text": [
      "Car Engine Started\n",
      "Bike dont have engine to start\n"
     ]
    }
   ],
   "source": [
    "from abc import ABC, abstractmethod\n",
    "\n",
    "class Vehicle(ABC):\n",
    "    @abstractmethod\n",
    "    def start_engine(self):\n",
    "        return \"Engine started\"\n",
    "\n",
    "class Car(Vehicle):\n",
    "    def start_engine(self):\n",
    "        return \"Car Engine Started\"\n",
    "    \n",
    "class Bike(Vehicle):\n",
    "    def start_engine(self):\n",
    "        return \"Bike dont have engine to start\"\n",
    "\n",
    "car1 = Car()\n",
    "bike1 = Bike()\n",
    "\n",
    "print(car1.start_engine())\n",
    "print(bike1.start_engine())"
   ]
  },
  {
   "cell_type": "markdown",
   "id": "a5dc2730",
   "metadata": {},
   "source": [
    "### Assign 4"
   ]
  },
  {
   "cell_type": "code",
   "execution_count": 5,
   "id": "3c1182d2",
   "metadata": {},
   "outputs": [
    {
     "name": "stdout",
     "output_type": "stream",
     "text": [
      "Diesel\n",
      "Petrol\n"
     ]
    }
   ],
   "source": [
    "from abc import ABC, abstractmethod\n",
    "\n",
    "class Vehicle(ABC):\n",
    "    @abstractmethod\n",
    "    def start_engine(self):\n",
    "        return \"Engine started\"\n",
    "\n",
    "    def fuel_type(self):\n",
    "        return \"Generic\"\n",
    "\n",
    "class Car(Vehicle):\n",
    "    def start_engine(self):\n",
    "        return \"Car Engine Started\"\n",
    "    \n",
    "    def fuel_type(self):\n",
    "        return \"Diesel\"\n",
    "    \n",
    "class Bike(Vehicle):\n",
    "    def start_engine(self):\n",
    "        return \"Bike dont have engine to start\"\n",
    "\n",
    "    def fuel_type(self):\n",
    "        return \"Petrol\"\n",
    "\n",
    "car1 = Car()\n",
    "bike1 = Bike()\n",
    "\n",
    "print(car1.fuel_type())\n",
    "print(bike1.fuel_type())"
   ]
  },
  {
   "cell_type": "markdown",
   "id": "4e3a25ee",
   "metadata": {},
   "source": [
    "### Assign 5"
   ]
  },
  {
   "cell_type": "code",
   "execution_count": 8,
   "id": "ceee203a",
   "metadata": {},
   "outputs": [
    {
     "name": "stdout",
     "output_type": "stream",
     "text": [
      "200\n",
      "220\n",
      "215\n"
     ]
    }
   ],
   "source": [
    "class BankAccount:\n",
    "    def __init__(self, __account_number, __balance):\n",
    "        self.__account_number = __account_number\n",
    "        self. __balance = __balance\n",
    "    \n",
    "    def deposit(self, amount):\n",
    "        self.__balance += amount\n",
    "\n",
    "    def withdraw(self, amount):\n",
    "        if self.__balance >= amount:\n",
    "            self.__balance -= amount\n",
    "        else:\n",
    "            return f\"You dont have balance, your balance is {self.__balance}\"\n",
    "    \n",
    "    def check(self):\n",
    "        return self.__balance\n",
    "\n",
    "bankWelinton = BankAccount(1, 200)\n",
    "\n",
    "print(bankWelinton.check())\n",
    "bankWelinton.deposit(20)\n",
    "print(bankWelinton.check())\n",
    "bankWelinton.withdraw(5)\n",
    "print(bankWelinton.check())"
   ]
  },
  {
   "cell_type": "markdown",
   "id": "3398191d",
   "metadata": {},
   "source": [
    "### Assign 6"
   ]
  },
  {
   "cell_type": "code",
   "execution_count": 10,
   "id": "21ce3525",
   "metadata": {},
   "outputs": [
    {
     "name": "stdout",
     "output_type": "stream",
     "text": [
      "200\n",
      "220\n",
      "215\n",
      "100\n",
      "Amount cannot be negative\n",
      "100\n"
     ]
    }
   ],
   "source": [
    "class BankAccount:\n",
    "    def __init__(self, __account_number, __balance):\n",
    "        self.__account_number = __account_number\n",
    "        self. __balance = __balance\n",
    "    \n",
    "    def deposit(self, amount):\n",
    "        self.__balance += amount\n",
    "\n",
    "    def withdraw(self, amount):\n",
    "        if self.__balance >= amount:\n",
    "            self.__balance -= amount\n",
    "        else:\n",
    "            return f\"You dont have balance, your balance is {self.__balance}\"\n",
    "    \n",
    "    def check(self):\n",
    "        return self.__balance\n",
    "    \n",
    "    @property\n",
    "    def balance(self):\n",
    "        return self.__balance\n",
    "    \n",
    "    @balance.setter\n",
    "    def balance(self, amount):\n",
    "        if amount <= 0:\n",
    "           print(\"Amount cannot be negative\")\n",
    "        else:\n",
    "            self.__balance = amount\n",
    "\n",
    "bankWelinton = BankAccount(1, 200)\n",
    "\n",
    "print(bankWelinton.check())\n",
    "bankWelinton.deposit(20)\n",
    "print(bankWelinton.check())\n",
    "bankWelinton.withdraw(5)\n",
    "print(bankWelinton.check())\n",
    "bankWelinton.balance = 100\n",
    "print(bankWelinton.check())\n",
    "bankWelinton.balance = -100\n",
    "print(bankWelinton.check())\n"
   ]
  },
  {
   "cell_type": "markdown",
   "id": "cfb57cc4",
   "metadata": {},
   "source": [
    "### Assign 7"
   ]
  },
  {
   "cell_type": "code",
   "execution_count": 14,
   "id": "b69f701c",
   "metadata": {},
   "outputs": [
    {
     "name": "stdout",
     "output_type": "stream",
     "text": [
      "15\n",
      "Yasmin\n"
     ]
    }
   ],
   "source": [
    "class Person:\n",
    "    def __init__(self, name, age):\n",
    "        self.__name = name\n",
    "        self.__age = age\n",
    "    \n",
    "    def get_name(self):\n",
    "        return self.__name\n",
    "    \n",
    "    def set_name(self, name):\n",
    "        if name == \"\":\n",
    "            print(\"Name cannot be empty\")\n",
    "        else:\n",
    "            self.__name = name\n",
    "    \n",
    "    def get_age(self):\n",
    "        return self.__age\n",
    "\n",
    "    def set_age(self, age):\n",
    "        if age == 0:\n",
    "            print(\"Age cannot be 0\")\n",
    "        else:\n",
    "            self.__age = age\n",
    "\n",
    "class Student(Person):\n",
    "    def __init__(self, name, age, student_id):\n",
    "        super().__init__(name, age)\n",
    "        self.student_id = student_id\n",
    "\n",
    "stud = Student(\"Welinton\", 20, 1)\n",
    "\n",
    "stud.set_age(15)\n",
    "print(stud.get_age())\n",
    "\n",
    "stud.set_name(\"Yasmin\")\n",
    "print(stud.get_name())\n"
   ]
  },
  {
   "cell_type": "markdown",
   "id": "139d44d0",
   "metadata": {},
   "source": [
    "### Assign 8"
   ]
  },
  {
   "cell_type": "code",
   "execution_count": 15,
   "id": "936087a6",
   "metadata": {},
   "outputs": [
    {
     "name": "stdout",
     "output_type": "stream",
     "text": [
      "meow\n",
      "woof\n",
      "meow\n"
     ]
    }
   ],
   "source": [
    "class Animal:\n",
    "    def speak(self):\n",
    "        print(\"Animal says hi\")\n",
    "\n",
    "class Dog(Animal):\n",
    "    def speak(self):\n",
    "        print(\"woof\")\n",
    "\n",
    "class Cat(Animal):\n",
    "    def speak(self):\n",
    "        print(\"meow\")\n",
    "\n",
    "cat1 = Cat()\n",
    "dog1 = Dog()\n",
    "cat2 = Cat()\n",
    "\n",
    "animal = [cat1, dog1, cat2]\n",
    "\n",
    "for each in animal:\n",
    "    each.speak()\n"
   ]
  },
  {
   "cell_type": "markdown",
   "id": "ae7d1b51",
   "metadata": {},
   "source": [
    "### Assign 9"
   ]
  },
  {
   "cell_type": "code",
   "execution_count": 19,
   "id": "ec7a08fe",
   "metadata": {},
   "outputs": [
    {
     "name": "stdout",
     "output_type": "stream",
     "text": [
      "1000\n",
      "300\n"
     ]
    }
   ],
   "source": [
    "from abc import ABC, abstractmethod\n",
    "\n",
    "class Employee(ABC):\n",
    "    @abstractmethod\n",
    "    def calculate_salary(self):\n",
    "        pass\n",
    "\n",
    "class FullTimeEmployee(Employee):\n",
    "    def __init__(self, salary):\n",
    "        self.salary = salary\n",
    "\n",
    "    def calculate_salary(self):\n",
    "        return self.salary\n",
    "\n",
    "class PartTimeEmployee(Employee):\n",
    "    def __init__(self, hourly_rate, salary):\n",
    "        self.hourly_rate = hourly_rate\n",
    "        self.salary = salary\n",
    "\n",
    "    def calculate_salary(self):\n",
    "        return self.salary * self.hourly_rate\n",
    "\n",
    "fulltime = FullTimeEmployee(1000)\n",
    "print(fulltime.calculate_salary())\n",
    "\n",
    "partTime = PartTimeEmployee(3, 100)\n",
    "print(partTime.calculate_salary())"
   ]
  },
  {
   "cell_type": "markdown",
   "id": "7004024f",
   "metadata": {},
   "source": [
    "### Assign 10"
   ]
  },
  {
   "cell_type": "code",
   "execution_count": 21,
   "id": "52885791",
   "metadata": {},
   "outputs": [
    {
     "name": "stdout",
     "output_type": "stream",
     "text": [
      "2\n",
      "papel\n",
      "10\n"
     ]
    }
   ],
   "source": [
    "class Product:\n",
    "    def __init__(self, product_id, name, price):\n",
    "        self.__product_id = product_id\n",
    "        self.__name = name\n",
    "        self.__price = price\n",
    "    \n",
    "    def get_product_id(self):\n",
    "        return self.__product_id\n",
    "\n",
    "    def set_product_id(self, product_id):\n",
    "        self.__product_id = product_id\n",
    "\n",
    "    def get_name(self):\n",
    "        return self.__name\n",
    "\n",
    "    def set_name(self, name):\n",
    "        self.__name = name\n",
    "   \n",
    "    def get_price(self):\n",
    "        return self.__price\n",
    "\n",
    "    def set_price(self, price):\n",
    "        if price < 0:\n",
    "            print(\"Price cannot be negative\")\n",
    "        else:\n",
    "            self.__price = price\n",
    "\n",
    "product1 = Product(1, \"caneta\", 3)\n",
    "product1.set_product_id(2)\n",
    "print(product1.get_product_id())\n",
    "product1.set_name(\"papel\")\n",
    "print(product1.get_name())\n",
    "product1.set_price(10)\n",
    "print(product1.get_price())\n",
    "\n"
   ]
  },
  {
   "cell_type": "markdown",
   "id": "b59c8a1b",
   "metadata": {},
   "source": [
    "### Assign 11"
   ]
  },
  {
   "cell_type": "code",
   "execution_count": 32,
   "id": "3e2eb9b0",
   "metadata": {},
   "outputs": [
    {
     "name": "stdout",
     "output_type": "stream",
     "text": [
      "Vector(3, 5)\n"
     ]
    }
   ],
   "source": [
    "class Vector:\n",
    "    def __init__(self, x, y):\n",
    "        self.x = x\n",
    "        self.y = y\n",
    "    \n",
    "    def __add__(self, other):\n",
    "        return Vector(self.x + other.x, self.y + other.y)\n",
    "    \n",
    "    def __str__(self):\n",
    "        return f\"Vector({self.x}, {self.y})\"\n",
    "\n",
    "x = Vector(1, 2)\n",
    "y = Vector(2, 3)\n",
    "\n",
    "z = x + y\n",
    "print(z)"
   ]
  },
  {
   "cell_type": "markdown",
   "id": "8c5071b3",
   "metadata": {},
   "source": [
    "### Assign 12"
   ]
  },
  {
   "cell_type": "code",
   "execution_count": 34,
   "id": "0ee398d3",
   "metadata": {},
   "outputs": [
    {
     "name": "stdout",
     "output_type": "stream",
     "text": [
      "500w\n",
      "300w\n"
     ]
    }
   ],
   "source": [
    "from abc import ABC, abstractmethod\n",
    "\n",
    "class Appliance(ABC):\n",
    "    @property\n",
    "    @abstractmethod\n",
    "    def power(self):\n",
    "        pass\n",
    "\n",
    "class WashingMachine(Appliance):\n",
    "    def power(self):\n",
    "        return \"500w\"\n",
    "\n",
    "class Refrigerator(Appliance):\n",
    "    def power(self):\n",
    "        return \"300w\"\n",
    "\n",
    "washing = WashingMachine()\n",
    "refrigerator = Refrigerator()\n",
    "\n",
    "print(washing.power())\n",
    "print(refrigerator.power())\n",
    "\n"
   ]
  },
  {
   "cell_type": "markdown",
   "id": "e7b0d9e5",
   "metadata": {},
   "source": [
    "### Assign 13"
   ]
  },
  {
   "cell_type": "code",
   "execution_count": 38,
   "id": "83664241",
   "metadata": {},
   "outputs": [
    {
     "name": "stdout",
     "output_type": "stream",
     "text": [
      "1\n",
      "200\n",
      "5\n"
     ]
    }
   ],
   "source": [
    "class Account:\n",
    "    def __init__(self, account_number, balance):\n",
    "        self.__account_number = account_number\n",
    "        self.__balance = balance\n",
    "    \n",
    "    def get_account_number(self):\n",
    "        print(self.__account_number)\n",
    "    \n",
    "    def set_account_number(self, account_number):\n",
    "        self.__account_number = account_number\n",
    "    \n",
    "    def get_balance(self):\n",
    "        print(self.__balance)\n",
    "    \n",
    "    def set_balance(self, balance):\n",
    "        self.__balance = balance\n",
    "\n",
    "class SavingsAccount(Account):\n",
    "    def __init__(self, account_number, balance, interest_rate):\n",
    "        super().__init__(account_number, balance)\n",
    "        self.interest_rate = interest_rate\n",
    "\n",
    "saving = SavingsAccount(1, 200, 5)\n",
    "saving.get_account_number()\n",
    "saving.get_balance()\n",
    "print(f\"{saving.interest_rate}\")"
   ]
  },
  {
   "cell_type": "markdown",
   "id": "0f1e287a",
   "metadata": {},
   "source": [
    "### Assign 14"
   ]
  },
  {
   "cell_type": "code",
   "execution_count": 39,
   "id": "6b46aff1",
   "metadata": {},
   "outputs": [
    {
     "name": "stdout",
     "output_type": "stream",
     "text": [
      "super hero fly\n",
      "supoer hero Swimming\n"
     ]
    }
   ],
   "source": [
    "class Flyer:\n",
    "    def fly(self):\n",
    "        print(\"Flying\")\n",
    "\n",
    "class Swimmer:\n",
    "    def swim(self):\n",
    "        print(\"Swimming\")\n",
    "\n",
    "class Superhero(Flyer, Swimmer):\n",
    "    def fly(self):\n",
    "        print(\"super hero fly\")\n",
    "    def swim(self):\n",
    "        print(\"supoer hero Swimming\")\n",
    "\n",
    "superHero = Superhero()\n",
    "superHero.fly()\n",
    "superHero.swim()\n"
   ]
  },
  {
   "cell_type": "markdown",
   "id": "1732ec8a",
   "metadata": {},
   "source": [
    "### Assign 15"
   ]
  },
  {
   "cell_type": "code",
   "execution_count": 44,
   "id": "6780310d",
   "metadata": {},
   "outputs": [
    {
     "name": "stdout",
     "output_type": "stream",
     "text": [
      "Engineer working...\n",
      "Doctor working...\n"
     ]
    }
   ],
   "source": [
    "from abc import ABC, abstractmethod\n",
    "\n",
    "class Worker(ABC):\n",
    "    @abstractmethod\n",
    "    def work(self):\n",
    "        pass\n",
    "\n",
    "class Engineer(Worker):\n",
    "    def work(self):\n",
    "        print(\"Engineer working...\")\n",
    "\n",
    "class Doctor(Worker):\n",
    "    def work(self):\n",
    "        print(\"Doctor working...\")\n",
    "\n",
    "class Scientist(Engineer, Doctor):\n",
    "    def work(self):\n",
    "        Engineer.work(self)\n",
    "        Doctor.work(self)\n",
    "\n",
    "scientist = Scientist()\n",
    "scientist.work()"
   ]
  }
 ],
 "metadata": {
  "kernelspec": {
   "display_name": "Python 3",
   "language": "python",
   "name": "python3"
  },
  "language_info": {
   "codemirror_mode": {
    "name": "ipython",
    "version": 3
   },
   "file_extension": ".py",
   "mimetype": "text/x-python",
   "name": "python",
   "nbconvert_exporter": "python",
   "pygments_lexer": "ipython3",
   "version": "3.12.0"
  }
 },
 "nbformat": 4,
 "nbformat_minor": 5
}
