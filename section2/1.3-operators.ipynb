{
 "cells": [
  {
   "cell_type": "code",
   "execution_count": 6,
   "metadata": {},
   "outputs": [
    {
     "name": "stdout",
     "output_type": "stream",
     "text": [
      "2\n",
      "0\n",
      "100000\n"
     ]
    }
   ],
   "source": [
    "## not copied + - / * bc is too easy\n",
    "\n",
    "a = 10\n",
    "b = 5\n",
    "\n",
    "floor_div_result=a//b\n",
    "print(floor_div_result)\n",
    "\n",
    "modulus_result=a%b\n",
    "print(modulus_result)\n",
    "\n",
    "exponent_result=a**b\n",
    "print(exponent_result)"
   ]
  },
  {
   "cell_type": "code",
   "execution_count": 8,
   "metadata": {},
   "outputs": [],
   "source": [
    "## Comparative is same of other languages == != > < >= <="
   ]
  },
  {
   "cell_type": "code",
   "execution_count": 19,
   "metadata": {},
   "outputs": [
    {
     "name": "stdout",
     "output_type": "stream",
     "text": [
      "True\n",
      "True\n",
      "False\n"
     ]
    }
   ],
   "source": [
    "## Logical Operators\n",
    "# And, Not, OR\n",
    "\n",
    "X=True\n",
    "Y=True\n",
    "\n",
    "#Verify if X and Y is true\n",
    "result = X and Y\n",
    "print(result)\n",
    "\n",
    "#Verify if X or Y is true\n",
    "result = X or Y\n",
    "print(result)\n",
    "\n",
    "#Verify if X is not equal a Y, if not equal returns True\n",
    "result = X is not Y\n",
    "print(result)"
   ]
  }
 ],
 "metadata": {
  "kernelspec": {
   "display_name": "base",
   "language": "python",
   "name": "python3"
  },
  "language_info": {
   "codemirror_mode": {
    "name": "ipython",
    "version": 3
   },
   "file_extension": ".py",
   "mimetype": "text/x-python",
   "name": "python",
   "nbconvert_exporter": "python",
   "pygments_lexer": "ipython3",
   "version": "3.12.7"
  }
 },
 "nbformat": 4,
 "nbformat_minor": 2
}
