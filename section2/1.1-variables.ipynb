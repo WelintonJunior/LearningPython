{
 "cells": [
  {
   "cell_type": "markdown",
   "metadata": {},
   "source": [
    "### Variables"
   ]
  },
  {
   "cell_type": "code",
   "execution_count": 1,
   "metadata": {},
   "outputs": [],
   "source": [
    "a=100"
   ]
  },
  {
   "cell_type": "code",
   "execution_count": 9,
   "metadata": {},
   "outputs": [
    {
     "name": "stdout",
     "output_type": "stream",
     "text": [
      "Age: 32\n",
      "Height: 6.1\n",
      "Name: Welinton\n",
      "Is alive? True\n"
     ]
    }
   ],
   "source": [
    "## Declaring and Assigning Variables\n",
    "age=32\n",
    "height=6.1\n",
    "name=\"Welinton\"\n",
    "is_alive=True\n",
    "\n",
    "## printing the bariables\n",
    "print(f\"Age: {age}\\n\\\n",
    "Height: {height}\\n\\\n",
    "Name: {name}\\n\\\n",
    "Is alive? {is_alive}\")"
   ]
  },
  {
   "cell_type": "code",
   "execution_count": 11,
   "metadata": {},
   "outputs": [
    {
     "name": "stdout",
     "output_type": "stream",
     "text": [
      "25\n",
      "<class 'str'>\n"
     ]
    }
   ],
   "source": [
    "## Naming Convention\n",
    "## Variable names should be descriptive\n",
    "## They must start with a letter or an _ and contain letter, numbers and underscore\n",
    "\n",
    "# Type Conversion\n",
    "\n",
    "age = 25\n",
    "print(age)\n",
    "age_str = str(age)\n",
    "\n",
    "print(age_str)\n",
    "print(type(age_str))"
   ]
  },
  {
   "cell_type": "code",
   "execution_count": 14,
   "metadata": {},
   "outputs": [
    {
     "name": "stdout",
     "output_type": "stream",
     "text": [
      "20 <class 'int'>\n"
     ]
    }
   ],
   "source": [
    "## input\n",
    "\n",
    "age=int(input(\"What is the age\"))\n",
    "print(age, type(age))"
   ]
  }
 ],
 "metadata": {
  "kernelspec": {
   "display_name": "base",
   "language": "python",
   "name": "python3"
  },
  "language_info": {
   "codemirror_mode": {
    "name": "ipython",
    "version": 3
   },
   "file_extension": ".py",
   "mimetype": "text/x-python",
   "name": "python",
   "nbconvert_exporter": "python",
   "pygments_lexer": "ipython3",
   "version": "3.12.7"
  }
 },
 "nbformat": 4,
 "nbformat_minor": 2
}
